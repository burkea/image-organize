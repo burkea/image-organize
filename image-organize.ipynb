{
 "cells": [
  {
   "cell_type": "code",
   "execution_count": 14,
   "id": "8be5a0fa",
   "metadata": {},
   "outputs": [
    {
     "name": "stdout",
     "output_type": "stream",
     "text": [
      "Collecting ImageChops\n"
     ]
    },
    {
     "name": "stderr",
     "output_type": "stream",
     "text": [
      "  ERROR: Could not find a version that satisfies the requirement ImageChops (from versions: none)\n",
      "ERROR: No matching distribution found for ImageChops\n",
      "WARNING: You are using pip version 19.2.3, however version 22.0.3 is available.\n",
      "You should consider upgrading via the 'python -m pip install --upgrade pip' command.\n"
     ]
    }
   ],
   "source": [
    "!pip install ImageChops"
   ]
  },
  {
   "cell_type": "code",
   "execution_count": 44,
   "id": "af399359",
   "metadata": {},
   "outputs": [
    {
     "name": "stdout",
     "output_type": "stream",
     "text": [
      "D:\\Mirror\\Pictures\\CLEAN\\DSCN5112.JPG\n",
      "DateTimeOriginal not exists D:\\Mirror\\Pictures\\CLEAN\\DSCN5112.JPG\n",
      "2012-05-10 16:53:24.878608 2012\n",
      "destination: D:\\Mirror\\Pictures\\CLEAN\\DSCN5112.JPG\n",
      "source: D:\\Mirror\\Pictures\\CLEAN\\2012\\DSCN5112.JPG\n",
      "difference: 0.0\n",
      ">> moving... D:\\Mirror\\Pictures\\CLEAN\\DSCN5112.JPG D:\\Mirror\\Pictures\\CLEAN\\2012\\DSCN5112.JPG\n",
      "D:\\Mirror\\Pictures\\CLEAN\\IMG_0018.jpg\n",
      "DateTimeOriginal not exists D:\\Mirror\\Pictures\\CLEAN\\IMG_0018.jpg\n",
      "2015-10-11 17:10:56 2015\n",
      "destination: D:\\Mirror\\Pictures\\CLEAN\\IMG_0018.jpg\n",
      "source: D:\\Mirror\\Pictures\\CLEAN\\2015\\IMG_0018.jpg\n",
      "difference: 0.0\n",
      ">> moving... D:\\Mirror\\Pictures\\CLEAN\\IMG_0018.jpg D:\\Mirror\\Pictures\\CLEAN\\2015\\IMG_0018.jpg\n"
     ]
    }
   ],
   "source": [
    "mypath = \"D:\\Mirror\\Pictures\\CLEAN\"\n",
    "    \n",
    "from os import listdir\n",
    "from os.path import isfile, join \n",
    "onlyfiles = [f for f in listdir(mypath) if isfile(join(mypath, f)) ]\n",
    "\n",
    "from PIL import Image\n",
    "import os \n",
    "import json\n",
    "from PIL import Image, ExifTags\n",
    "from datetime import datetime\n",
    "import os.path, time\n",
    "import os\n",
    "import shutil\n",
    "import cv2\n",
    "from PIL import ImageChops\n",
    "\n",
    "import numpy as np\n",
    "import cv2\n",
    "import math, operator\n",
    "\n",
    "from pathlib import Path\n",
    "\n",
    "def mse(imageA, imageB):\n",
    "\t# the 'Mean Squared Error' between the two images is the\n",
    "\t# sum of the squared difference between the two images;\n",
    "\t# NOTE: the two images must have the same dimension\n",
    "\terr = np.sum((imageA.astype(\"float\") - imageB.astype(\"float\")) ** 2)\n",
    "\terr /= float(imageA.shape[0] * imageA.shape[1])\n",
    "\t\n",
    "\t# return the MSE, the lower the error, the more \"similar\"\n",
    "\t# the two images are\n",
    "\treturn err\n",
    "\n",
    "\n",
    "def diff(path1,path2):\n",
    "    original = cv2.imread(path1)\n",
    "    contrast = cv2.imread(path2)\n",
    "\n",
    "    original = cv2.cvtColor(original, cv2.COLOR_BGR2GRAY)\n",
    "    contrast = cv2.cvtColor(contrast, cv2.COLOR_BGR2GRAY)\n",
    "    if original.shape[0] != contrast.shape[0]:\n",
    "        return 100.0\n",
    "    return mse(original,contrast)\n",
    "\n",
    "for filename in onlyfiles:\n",
    "    \n",
    "    path_to_file = os.path.join(mypath,filename)\n",
    "    print(path_to_file)\n",
    "    year = \"_\"\n",
    "    if path_to_file.lower().endswith(('.png', '.jpg', '.jpeg', '.tiff', '.bmp', '.gif')):\n",
    "        image_exif = Image.open(path_to_file)._getexif()\n",
    "        if image_exif:\n",
    "            # Make a map with tag names\n",
    "            exif = { ExifTags.TAGS[k]: v for k, v in image_exif.items() if k in ExifTags.TAGS and type(v) is not bytes }\n",
    "            #print(exif)\n",
    "            if \"DateTimeOriginal\" not in exif or exif['DateTimeOriginal']:\n",
    "                print(\"DateTimeOriginal not exists\",path_to_file)\n",
    "                date_obj = datetime.fromtimestamp(os.path.getmtime(path_to_file))\n",
    "            else:\n",
    "                print(\"exif\",exif['DateTimeOriginal'])\n",
    "                if len(exif['DateTimeOriginal'])>14:\n",
    "                    # Grab the date\n",
    "                    date_obj = datetime.strptime(exif['DateTimeOriginal'], '%Y:%m:%d %H:%M:%S')\n",
    "                else:\n",
    "                    # Grab the date\n",
    "                    date_obj = datetime.strptime(exif['DateTimeOriginal'], '%Y:%m:%d %H:%M')\n",
    "\n",
    "            print(date_obj,date_obj.year)\n",
    "            year =date_obj.year \n",
    "        else:\n",
    "            print('Unable to get date from exif for %s' % filename)\n",
    "            date_obj = datetime.fromtimestamp(os.path.getmtime(path_to_file))\n",
    "            print(date_obj,date_obj.year)\n",
    "            year =date_obj.year\n",
    "            \n",
    "    else:\n",
    "        print('Unable to get date from exif for %s' % filename)\n",
    "        date_obj = datetime.fromtimestamp(os.path.getmtime(path_to_file))\n",
    "        print(date_obj,date_obj.year)\n",
    "        year =date_obj.year\n",
    "    \n",
    "    directory = os.path.join(mypath,str(year))\n",
    "    if not os.path.exists(directory):\n",
    "        os.makedirs(directory)        \n",
    "    source_file = os.path.join(directory,filename)\n",
    "    print(\"destination:\",path_to_file)\n",
    "    print(\"source:\",source_file)\n",
    "    if not os.path.exists(os.path.join(directory,filename)):\n",
    "        os.rename(path_to_file, os.path.join(directory,filename))\n",
    "    else:\n",
    "        if source_file.lower().endswith(('.mov')) :\n",
    "            shutil.move(path_to_file, os.path.join(directory,\"copy-of-\"+filename))\n",
    "            print(\"moving with new name: copy-of-\",filename)\n",
    "        else:\n",
    "            dif = diff(source_file,path_to_file)\n",
    "            print(\"difference:\",diff(source_file,path_to_file))\n",
    "            if dif == 0.0:\n",
    "                print(\">> moving...\",path_to_file,source_file)\n",
    "                shutil.move(path_to_file,source_file)\n",
    "            else:\n",
    "                print(\"breakşng...\",)\n",
    "                move_file_name = os.path.join(directory,Path(path_to_file).resolve().stem+\"(1)\"+Path(source_file).suffix)\n",
    "                print(\"source:\",path_to_file,\"dest:\",move_file_name)\n",
    "                shutil.move(path_to_file, move_file_name)\n",
    "                \n",
    "\n",
    "            \n",
    "\n",
    "\n",
    "        "
   ]
  },
  {
   "cell_type": "code",
   "execution_count": 12,
   "id": "c4f0aa7c",
   "metadata": {},
   "outputs": [],
   "source": [
    "import json\n",
    "from PIL import Image, ExifTags\n",
    "from datetime import datetime\n",
    "\n",
    "def main(filename):\n",
    "    image_exif = Image.open(filename)._getexif()\n",
    "    if image_exif:\n",
    "        # Make a map with tag names\n",
    "        exif = { ExifTags.TAGS[k]: v for k, v in image_exif.items() if k in ExifTags.TAGS and type(v) is not bytes }\n",
    "        print(json.dumps(exif, indent=4))\n",
    "        # Grab the date\n",
    "        date_obj = datetime.strptime(exif['DateTimeOriginal'], '%Y:%m:%d %H:%M:%S')\n",
    "        print(date_obj)\n",
    "    else:\n",
    "        print('Unable to get date from exif for %s' % filename)"
   ]
  },
  {
   "cell_type": "code",
   "execution_count": null,
   "id": "d109c7b2",
   "metadata": {},
   "outputs": [],
   "source": [
    "!pip install exifread"
   ]
  },
  {
   "cell_type": "code",
   "execution_count": null,
   "id": "3a44d49f",
   "metadata": {},
   "outputs": [],
   "source": []
  }
 ],
 "metadata": {
  "kernelspec": {
   "display_name": "Python 3 (ipykernel)",
   "language": "python",
   "name": "python3"
  },
  "language_info": {
   "codemirror_mode": {
    "name": "ipython",
    "version": 3
   },
   "file_extension": ".py",
   "mimetype": "text/x-python",
   "name": "python",
   "nbconvert_exporter": "python",
   "pygments_lexer": "ipython3",
   "version": "3.8.3"
  }
 },
 "nbformat": 4,
 "nbformat_minor": 5
}
