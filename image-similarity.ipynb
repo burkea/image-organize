{
 "metadata": {
  "language_info": {
   "codemirror_mode": {
    "name": "ipython",
    "version": 3
   },
   "file_extension": ".py",
   "mimetype": "text/x-python",
   "name": "python",
   "nbconvert_exporter": "python",
   "pygments_lexer": "ipython3",
   "version": "3.6.5-final"
  },
  "orig_nbformat": 2,
  "kernelspec": {
   "name": "python3",
   "display_name": "Python 3",
   "language": "python"
  }
 },
 "nbformat": 4,
 "nbformat_minor": 2,
 "cells": [
  {
   "cell_type": "code",
   "execution_count": 4,
   "metadata": {},
   "outputs": [],
   "source": [
    "import cv2\n",
    "import numpy as np\n",
    "\n",
    "original = cv2.imread(\"images/1280px-GoldenGateBridge-001.jpg\")\n",
    "duplicate = cv2.imread(\"images/cartoon.jpg\")"
   ]
  },
  {
   "cell_type": "code",
   "execution_count": 5,
   "metadata": {},
   "outputs": [
    {
     "output_type": "stream",
     "name": "stdout",
     "text": [
      "The images have same size and channels\n"
     ]
    }
   ],
   "source": [
    "if original.shape == duplicate.shape:\n",
    "    print(\"The images have same size and channels\")\n",
    "difference = cv2.subtract(original, duplicate)\n",
    "b, g, r = cv2.split(difference)\n",
    "\n",
    "if cv2.countNonZero(b) == 0 and cv2.countNonZero(g) == 0 and cv2.countNonZero(r) == 0:\n",
    "    print(\"The images are completely Equal\")\n",
    "else \n",
    "    print(\"The images are not completely Equal\")\n"
   ]
  },
  {
   "cell_type": "code",
   "execution_count": 21,
   "metadata": {},
   "outputs": [
    {
     "output_type": "stream",
     "name": "stdout",
     "text": [
      "0.7445508468775591\n"
     ]
    }
   ],
   "source": [
    "from skimage.measure import compare_ssim as ssim \n",
    "s = ssim(original,duplicate, multichannel = True)  \n",
    "print(s)"
   ]
  },
  {
   "cell_type": "code",
   "execution_count": null,
   "metadata": {},
   "outputs": [],
   "source": [
    "# 2) Check for similarities between the 2 images\n",
    "sift = cv2.xfeatures2d.SIFT_create()\n",
    "kp_1, desc_1 = sift.detectAndCompute(original, None)\n",
    "kp_2, desc_2 = sift.detectAndCompute(image_to_compare, None)\n",
    "]index_params = dict(algorithm=0, trees=5)\n",
    "search_params = dict()\n",
    "flann = cv2.FlannBasedMatcher(index_params, search_params)\n",
    "matches = flann.knnMatch(desc_1, desc_2, k=2)\n",
    "good_points = []\n",
    "ratio = 0.6\n",
    "for m, n in matches:\n",
    "    if m.distance < ratio*n.distance:\n",
    "        good_points.append(m)\n",
    "        print(len(good_points))\n",
    "result = cv2.drawMatches(original, kp_1, image_to_compare, kp_2, good_points, None)\n"
   ]
  }
 ]
}